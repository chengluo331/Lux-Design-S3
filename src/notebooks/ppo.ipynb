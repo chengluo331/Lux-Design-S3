{
 "cells": [
  {
   "cell_type": "code",
   "execution_count": null,
   "id": "8cfad64d-248d-47d5-b46d-bfa6248a9347",
   "metadata": {},
   "outputs": [],
   "source": [
    "from luxai_s3.wrappers import LuxAIS3GymEnv, RecordEpisode, SingleAgentWrapper\n",
    "from luxai_s3.params import EnvParams\n",
    "from stable_baselines3 import PPO\n",
    "from stable_baselines3.common.env_checker import check_env\n",
    "from kits.python.agent import Agent"
   ]
  },
  {
   "cell_type": "code",
   "execution_count": null,
   "id": "5f79ebdd-d601-4892-8297-73bd83f50bf3",
   "metadata": {},
   "outputs": [],
   "source": [
    "env = SingleAgentWrapper(LuxAIS3GymEnv(numpy_output=True), 'player_0', Agent)"
   ]
  },
  {
   "cell_type": "code",
   "execution_count": null,
   "id": "d89c0c27-d8ac-407c-a52c-366f42153fc3",
   "metadata": {},
   "outputs": [],
   "source": [
    "check_env(env)"
   ]
  },
  {
   "cell_type": "code",
   "execution_count": null,
   "id": "d12ab01e-ba84-4e50-a473-dc52888b47d7",
   "metadata": {},
   "outputs": [],
   "source": [
    "model = PPO(\"MultiInputPolicy\", env, verbose=1)\n",
    "model.learn(total_timesteps=200)"
   ]
  },
  {
   "cell_type": "code",
   "execution_count": null,
   "id": "46de2f60-22ef-47e1-93e3-40f7bb825c5f",
   "metadata": {},
   "outputs": [],
   "source": []
  },
  {
   "cell_type": "code",
   "execution_count": null,
   "id": "ad7da6be-c729-4700-971e-1cb271c31b1d",
   "metadata": {},
   "outputs": [],
   "source": []
  }
 ],
 "metadata": {
  "kernelspec": {
   "display_name": "Python 3 (ipykernel)",
   "language": "python",
   "name": "python3"
  },
  "language_info": {
   "codemirror_mode": {
    "name": "ipython",
    "version": 3
   },
   "file_extension": ".py",
   "mimetype": "text/x-python",
   "name": "python",
   "nbconvert_exporter": "python",
   "pygments_lexer": "ipython3",
   "version": "3.11.11"
  }
 },
 "nbformat": 4,
 "nbformat_minor": 5
}
