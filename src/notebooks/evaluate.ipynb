{
 "cells": [
  {
   "cell_type": "code",
   "execution_count": null,
   "id": "1237f47c-8d28-49c9-8198-ab0b5d2384a0",
   "metadata": {},
   "outputs": [],
   "source": [
    "import json\n",
    "from IPython.display import display, Javascript\n",
    "from luxai_s3.wrappers import LuxAIS3GymEnv, RecordEpisode\n",
    "\n",
    "def render_episode(episode: RecordEpisode) -> None:\n",
    "    data = json.dumps(episode.serialize_episode_data(), separators=(\",\", \":\"))\n",
    "    display(Javascript(f\"\"\"\n",
    "var iframe = document.createElement('iframe');\n",
    "iframe.src = 'https://s3vis.lux-ai.org/#/kaggle';\n",
    "iframe.width = '100%';\n",
    "iframe.scrolling = 'no';\n",
    "\n",
    "iframe.addEventListener('load', event => {{\n",
    "    event.target.contentWindow.postMessage({data}, 'https://s3vis.lux-ai.org');\n",
    "}});\n",
    "\n",
    "new ResizeObserver(entries => {{\n",
    "    for (const entry of entries) {{\n",
    "        entry.target.height = `${{Math.round(320 + 0.3 * entry.contentRect.width)}}px`;\n",
    "    }}\n",
    "}}).observe(iframe);\n",
    "\n",
    "element.append(iframe);\n",
    "    \"\"\"))"
   ]
  },
  {
   "cell_type": "code",
   "execution_count": null,
   "id": "253e6a6c-3164-47da-a714-211b0ff0c3ee",
   "metadata": {
    "jupyter": {
     "source_hidden": true
    }
   },
   "outputs": [],
   "source": [
    "def evaluate_agents(agent_1_cls, agent_2_cls, seed=42, games_to_play=3, replay_save_dir=\"replays\"):\n",
    "    env = RecordEpisode(\n",
    "        LuxAIS3GymEnv(numpy_output=True), save_on_close=True, save_on_reset=True, save_dir=replay_save_dir\n",
    "    )\n",
    "    \n",
    "    obs, info = env.reset(seed=seed)\n",
    "    for i in range(games_to_play):\n",
    "        # obs: {p0:..., p1: ...}\n",
    "        obs, info = env.reset()\n",
    "        env_cfg = info[\"params\"] # only contains observable game parameters\n",
    "        player_0 = agent_1_cls(\"player_0\", env_cfg)\n",
    "        player_1 = agent_2_cls(\"player_1\", env_cfg)\n",
    "    \n",
    "        # main game loop\n",
    "        game_done = False\n",
    "        step = 0\n",
    "        print(f\"Running game {i}\")\n",
    "        while not game_done:\n",
    "            actions = dict()\n",
    "            for agent in [player_0, player_1]:\n",
    "                actions[agent.player] = agent.act(step=step, obs=obs[agent.player])\n",
    "            # actions: {p0:..., p1: ...}    \n",
    "            obs, reward, terminated, truncated, info = env.step(actions)\n",
    "            # info[\"state\"] is the environment state object, you can inspect/play around with it to e.g. print\n",
    "            # unobservable game data that agents can't see\n",
    "            dones = {k: terminated[k] | truncated[k] for k in terminated}\n",
    "            if dones[\"player_0\"] or dones[\"player_1\"]:\n",
    "                game_done = True\n",
    "            step += 1\n",
    "        render_episode(env)\n",
    "    env.close() # free up resources and save final replay"
   ]
  },
  {
   "cell_type": "code",
   "execution_count": null,
   "id": "76df8c91-f0cb-42d0-b0a8-1fba5aa00312",
   "metadata": {},
   "outputs": [],
   "source": [
    "from kits.python.agent import Agent\n",
    "from luxai_s3.wrappers import SingleAgentWrapper"
   ]
  },
  {
   "cell_type": "code",
   "execution_count": null,
   "id": "06c54bce-7589-458a-b445-3abe27b35716",
   "metadata": {
    "scrolled": true
   },
   "outputs": [],
   "source": [
    "#evaluate_agents(Agent,Agent)"
   ]
  },
  {
   "cell_type": "code",
   "execution_count": null,
   "id": "f20e5e00-34b6-47b8-9ac3-17fea6e4d173",
   "metadata": {},
   "outputs": [],
   "source": [
    "from stable_baselines3 import PPO\n",
    "rl_agent = PPO.load('../rl/models/ppo_baseline.bin')"
   ]
  },
  {
   "cell_type": "code",
   "execution_count": null,
   "id": "1f0d8a01-e16a-4e31-b35e-b9ce04db444d",
   "metadata": {},
   "outputs": [],
   "source": [
    "from rl.wrappers import RLWrapper"
   ]
  },
  {
   "cell_type": "code",
   "execution_count": null,
   "id": "ebd89ae1-fa9a-489f-9190-d3416479d173",
   "metadata": {},
   "outputs": [],
   "source": [
    "def evaluate_single_agents(seed=42, games_to_play=10, replay_save_dir=\"logs/replays\"):\n",
    "    env = RLWrapper(\n",
    "        RecordEpisode(\n",
    "            LuxAIS3GymEnv(numpy_output=True),\n",
    "            save_on_close=True, save_on_reset=True, save_dir=replay_save_dir\n",
    "        )\n",
    "    )\n",
    "\n",
    "    obs, info = env.reset(seed=seed)\n",
    "    for i in range(games_to_play):\n",
    "        obs, info = env.reset()\n",
    "        \n",
    "        # env_cfg = info[\"params\"]  # only contains observable game parameters\n",
    "        # agent = Agent(\"player_0\", env_cfg)\n",
    "        # player_1 = agent_2_cls(\"player_1\", env_cfg)\n",
    "\n",
    "        # main game loop\n",
    "        game_done = False\n",
    "        step = 0\n",
    "        print(f\"Running game {i}\")\n",
    "        while not game_done:\n",
    "            # actions = dict()\n",
    "            # for agent in [player_0, player_1]:\n",
    "            #     actions[agent.player] = agent.act(step=step, obs=obs[agent.player])\n",
    "            # actions: {p0:..., p1: ...}\n",
    "            \n",
    "            # random action: \n",
    "            action = env.action_space.sample()\n",
    "\n",
    "            # sample agent action\n",
    "            # action = agent.act(step=step, obs=env.backout_obs(obs))\n",
    "\n",
    "            ## rl agent action\n",
    "            # action, _ = rl_agent.predict(obs)\n",
    "            \n",
    "            obs, reward, terminated, truncated, info = env.step(action)\n",
    "            # info[\"state\"] is the environment state object, you can inspect/play around with it to e.g. print\n",
    "            # unobservable game data that agents can't see\n",
    "            game_done = terminated or truncated\n",
    "            step += 1\n",
    "        render_episode(env.env)\n",
    "    env.close()  # free up resources and save final replay\n",
    "\n",
    "evaluate_single_agents()"
   ]
  },
  {
   "cell_type": "code",
   "execution_count": null,
   "id": "ee598422-6755-4ade-ba75-dcf3f81fffe4",
   "metadata": {},
   "outputs": [],
   "source": []
  }
 ],
 "metadata": {
  "kernelspec": {
   "display_name": "Python 3 (ipykernel)",
   "language": "python",
   "name": "python3"
  },
  "language_info": {
   "codemirror_mode": {
    "name": "ipython",
    "version": 3
   },
   "file_extension": ".py",
   "mimetype": "text/x-python",
   "name": "python",
   "nbconvert_exporter": "python",
   "pygments_lexer": "ipython3",
   "version": "3.11.11"
  }
 },
 "nbformat": 4,
 "nbformat_minor": 5
}
